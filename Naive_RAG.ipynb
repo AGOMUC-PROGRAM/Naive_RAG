{
 "cells": [
  {
   "cell_type": "code",
   "execution_count": 1,
   "id": "e4b55f0d-fb71-4eb8-9a59-2dfaa007b22e",
   "metadata": {},
   "outputs": [],
   "source": [
    "from langchain import PromptTemplate\n",
    "from langchain.chains import RetrievalQA\n",
    "from langchain.vectorstores import FAISS\n",
    "from langchain.document_loaders import PyPDFLoader, DirectoryLoader\n",
    "from langchain.text_splitter import RecursiveCharacterTextSplitter\n",
    "from langchain.schema import Document\n",
    "from langchain_community.llms import CTransformers\n",
    "from langchain_community.embeddings import HuggingFaceEmbeddings\n",
    "import os\n",
    "import json"
   ]
  },
  {
   "cell_type": "code",
   "execution_count": 2,
   "id": "acbd945c",
   "metadata": {},
   "outputs": [],
   "source": [
    "#!pip install langchain-community"
   ]
  },
  {
   "cell_type": "code",
   "execution_count": 3,
   "id": "8f55fead-250e-47ec-8f51-d14a9caf97a4",
   "metadata": {},
   "outputs": [],
   "source": [
    "def load_json(folder_path):\n",
    "    documents = []\n",
    "\n",
    "    for filename in os.listdir(folder_path):\n",
    "        if filename.endswith(\".json\"):\n",
    "            filepath = os.path.join(folder_path, filename)\n",
    "            with open(filepath, \"r\", encoding=\"utf-8\") as f:\n",
    "                data = json.load(f)\n",
    "\n",
    "                if isinstance(data, list):\n",
    "                    for entry in data:\n",
    "                        text = entry.get(\"markdown\") or entry.get(\"text\") or entry.get(\"content\") or json.dumps(entry)\n",
    "                        url = entry.get(\"url\", filepath)\n",
    "                        documents.append(Document(page_content=text, metadata={\"source\": filepath, \"url\": url}))\n",
    "                elif isinstance(data, dict):\n",
    "                    text = data.get(\"markdown\") or data.get(\"text\") or data.get(\"content\") or json.dumps(data)\n",
    "                    url = data.get(\"url\", filepath)\n",
    "                    documents.append(Document(page_content=text, metadata={\"source\": filepath, \"url\": url}))\n",
    "    \n",
    "    return documents\n"
   ]
  },
  {
   "cell_type": "code",
   "execution_count": 4,
   "id": "24dd1a7d-c321-492d-b717-9bb7538d0d5c",
   "metadata": {},
   "outputs": [
    {
     "name": "stdout",
     "output_type": "stream",
     "text": [
      "Loaded 163 documents\n"
     ]
    }
   ],
   "source": [
    "extracted_data = load_json(\"data/\")\n",
    "print(f\"Loaded {len(extracted_data)} documents\")"
   ]
  },
  {
   "cell_type": "code",
   "execution_count": 5,
   "id": "0e9aeda4-982c-4708-a410-482d517a1f6f",
   "metadata": {},
   "outputs": [
    {
     "name": "stdout",
     "output_type": "stream",
     "text": [
      "Number of chunks: 6807\n"
     ]
    }
   ],
   "source": [
    "def text_split(extracted_data):\n",
    "    text_splitter = RecursiveCharacterTextSplitter(chunk_size=300, chunk_overlap=20)\n",
    "    text_chunks = text_splitter.split_documents(extracted_data)\n",
    "    return text_chunks\n",
    "\n",
    "text_chunks = text_split(extracted_data)\n",
    "print(f\"Number of chunks: {len(text_chunks)}\")"
   ]
  },
  {
   "cell_type": "code",
   "execution_count": 6,
   "id": "ba204a8c-d3a6-484b-bd2b-a2300bb4176d",
   "metadata": {},
   "outputs": [
    {
     "name": "stderr",
     "output_type": "stream",
     "text": [
      "C:\\Users\\singh\\AppData\\Local\\Temp\\ipykernel_27344\\1376388404.py:2: LangChainDeprecationWarning: The class `HuggingFaceEmbeddings` was deprecated in LangChain 0.2.2 and will be removed in 1.0. An updated version of the class exists in the :class:`~langchain-huggingface package and should be used instead. To use it run `pip install -U :class:`~langchain-huggingface` and import as `from :class:`~langchain_huggingface import HuggingFaceEmbeddings``.\n",
      "  embeddings = HuggingFaceEmbeddings(model_name=\"sentence-transformers/all-MiniLM-L6-v2\")\n",
      "e:\\Msc. BIOINFORMATICS\\AGOMUC INTERN\\Naive_RAG_AGOMUC-main\\Naive_RAG_AGOMUC-main\\venv\\Lib\\site-packages\\tqdm\\auto.py:21: TqdmWarning: IProgress not found. Please update jupyter and ipywidgets. See https://ipywidgets.readthedocs.io/en/stable/user_install.html\n",
      "  from .autonotebook import tqdm as notebook_tqdm\n"
     ]
    },
    {
     "name": "stdout",
     "output_type": "stream",
     "text": [
      "Query Embedding Length: 384\n"
     ]
    }
   ],
   "source": [
    "def download_hugging_face_embeddings():\n",
    "    embeddings = HuggingFaceEmbeddings(model_name=\"sentence-transformers/all-MiniLM-L6-v2\")\n",
    "    return embeddings\n",
    "\n",
    "embeddings = download_hugging_face_embeddings()\n",
    "query_result = embeddings.embed_query(\"Hello world\")\n",
    "print(f\"Query Embedding Length: {len(query_result)}\")"
   ]
  },
  {
   "cell_type": "code",
   "execution_count": 7,
   "id": "42a08b6f-fe08-4e66-a659-f49e701b1cdb",
   "metadata": {},
   "outputs": [
    {
     "name": "stdout",
     "output_type": "stream",
     "text": [
      "\n",
      "Document 1:\n",
      "These may include vaccines for measles, mumps, and rubella (MMR), diphtheria, tetanus, pertussis (whooping cough), polio, varicella (chickenpox), meningococcal disease, seasonal flu, and others. Pre-travel vaccines and medications When travelling in this destination, you might be at risk for...\n",
      "Metadata: {'source': 'data/scrape_results_20250526_124734.json', 'url': 'https://travel.gc.ca/destinations/india'}\n",
      "\n",
      "Document 2:\n",
      "dust, and other flying particles. Wear the protective equipment that is intended and recommended for your particular task. Seat belts Safety glasses or goggles Protective clothing, headgear, and/or footgear Safety harnesses, etc. ---- Workplace Safety Tips: Sources ---- (1) (2) (3) (4) (5) (6) (7)...\n",
      "Metadata: {'source': 'data/scrape_results_20250526_140158.json', 'url': 'https://www.atlantictraining.com/safety-tips/workplace-safety-tips.php'}\n",
      "\n",
      "Document 3:\n",
      "a well-fitting mask, especially: if you’re sick and need to be around others when you’re at large indoor events or in crowded settings, like sporting events, concerts, and airports cleaning your hands regularly with soap and water for at least 20 seconds, or using hand sanitizer containing at least...\n",
      "Metadata: {'source': 'data/scrape_results_20250526_124734.json', 'url': 'https://travel.gc.ca/destinations/india'}\n"
     ]
    }
   ],
   "source": [
    "from langchain.vectorstores import FAISS\n",
    "\n",
    "# Build FAISS vector store from text chunks\n",
    "docsearch = FAISS.from_documents(\n",
    "    documents=text_chunks,\n",
    "    embedding=embeddings\n",
    ")\n",
    "\n",
    "# Perform similarity search on a query\n",
    "query = \"What are allergies?\"\n",
    "docs = docsearch.similarity_search(query, k=3)\n",
    "\n",
    "# Display the top 3 most relevant documents\n",
    "for i, doc in enumerate(docs, 1):\n",
    "    print(f\"\\nDocument {i}:\\n{doc.page_content[:500]}...\")\n",
    "    print(f\"Metadata: {doc.metadata}\")\n"
   ]
  },
  {
   "cell_type": "code",
   "execution_count": 8,
   "id": "cd01f6a7-a444-4d1f-a473-22cb40024b04",
   "metadata": {},
   "outputs": [],
   "source": [
    "prompt_template = \"\"\"\n",
    "Use the following pieces of information to answer the user's question.\n",
    "If you don't know the answer, just say that you don't know, don't try to make up an answer.\n",
    "\n",
    "Context: {context}\n",
    "Question: {question}\n",
    "\n",
    "Only return the helpful answer below and nothing else.\n",
    "Helpful answer:\n",
    "\"\"\"\n",
    "\n",
    "PROMPT = PromptTemplate(template=prompt_template, input_variables=[\"context\", \"question\"])\n",
    "chain_type_kwargs = {\"prompt\": PROMPT}"
   ]
  },
  {
   "cell_type": "code",
   "execution_count": 9,
   "id": "9bff66b9-6bbe-4450-a836-60de7c03b729",
   "metadata": {},
   "outputs": [],
   "source": [
    "from langchain.llms import CTransformers\n",
    "\n",
    "llm = CTransformers(\n",
    "    model=\"model/llama-2-7b-chat.ggmlv3.q4_0.bin\",  \n",
    "    model_type=\"llama\",                             \n",
    "    config={\n",
    "        'max_new_tokens': 512,\n",
    "        'temperature': 0.8\n",
    "    }\n",
    ")\n"
   ]
  },
  {
   "cell_type": "code",
   "execution_count": 14,
   "id": "26f4281e-0db5-4777-9233-1bc0cfb43fc4",
   "metadata": {},
   "outputs": [],
   "source": [
    "from langchain.chains import RetrievalQA\n",
    "\n",
    "qa_chain = RetrievalQA.from_chain_type(\n",
    "    llm=llm,\n",
    "    chain_type=\"stuff\",\n",
    "    retriever=docsearch.as_retriever(search_kwargs={\"k\": 1}),\n",
    "    chain_type_kwargs=chain_type_kwargs,\n",
    "    return_source_documents=True  \n",
    ")\n",
    "\n"
   ]
  },
  {
   "cell_type": "code",
   "execution_count": 17,
   "id": "bf4f3d1e-9d92-44bb-8d2d-9b15fe8f8608",
   "metadata": {},
   "outputs": [
    {
     "name": "stdout",
     "output_type": "stream",
     "text": [
      "\n",
      "User Question: How can I keep my belongings secure on a crowded bus or metro?\n",
      "Bot Response: Consider using anti-theft backpacks or purses that are designed specifically for public transportation security. These bags typically have slash-proof fabric, reinforced zippers, and other features to help keep your belongings safe from thieves and pickpockets. Additionally, try to keep your valuables close to you at all times and be aware of your surroundings to avoid losing or having them stolen.\n",
      "\n",
      "Source: https://www.littleexplainers.com/public-transport-safety/\n",
      "\n",
      "User Question: How do I identify and avoid risky areas when walking through a city?\n",
      "Bot Response: You can identify risky areas in a city by being aware of your surroundings and paying attention to local crime statistics. Look for areas with high crime rates, especially at night or in isolated locations. Additionally, you can ask locals or shop owners for advice on safe routes and areas. Finally, use online resources such as crime maps and neighborhood reviews to inform your decisions. By being proactive and informed, you can significantly lower risks when walking through a city.\n",
      "\n",
      "Source: https://women.imsafe.app/post/urban-safety-101-how-to-navigate-public-spaces-and-stay-alert-in-cities\n",
      "\n",
      "User Question: What are the best self-defense techniques for women walking alone at night?\n",
      "Bot Response: The best self-defense techniques for women walking alone at night include learning how to use their voice effectively, keeping a safe distance from potential threats, and using non-violent methods such as kicking or slapping an attacker. It's also important to prioritize avoidance and situational awareness by trusting your instincts and staying aware of your surroundings. Additionally, carrying a personal alarm or pepper spray can be useful in deterring attacks. Ultimately, the most effective self-defense techniques are those that combine physical and mental preparation, as well as awareness and avoidance strategies.\n",
      "\n",
      "Source: https://preventiveapproach.com/womens-self-defense-tips/\n",
      "\n",
      "User Question: What are some key legal rights citizens should know to protect themselves?\n",
      "Bot Response: Some key legal rights that citizens should know to protect themselves include the right to a fair trial, the right to due process, and the right to be informed of any charges against them. Additionally, they have the right to legal representation and to challenge any evidence presented against them. It is important for citizens to understand these rights and to know how to assert them in order to protect themselves from abuse of power by law enforcement or other authorities.\n",
      "\n",
      "Source: https://redress.org/storage/2018/01/Mar-08-Criminal-Law-and-your-rights.pdf\n",
      "\n",
      "User Question: What are red flags to watch out for in a rideshare driver?\n",
      "Bot Response: It is not appropriate or safe to engage in any activities that distract the driver while driving, such as smoking or using electronic devices. It is important to prioritize safety and follow the rules of the rideshare platform to ensure the safety of all passengers. If you notice a driver engaging in any unsafe behavior, it is best to report it to the platform or authorities rather than trying to address it yourself.\n",
      "\n",
      "Source: https://www.arrivealive.mobi/travel-safety-when-using-public-transport\n",
      "\n",
      "User Question: How do I stay alert without appearing nervous or afraid?\n",
      "Bot Response: You can stay alert without appearing nervous or afraid by being mindful of your surroundings, observing other people's behavior, and trusting your instincts. Additionally, practicing deep breathing exercises, stretching, and engaging in physical activity can help you feel more grounded and focused. However, avoid acting paranoid or aggressive, as this can make others uncomfortable and may not be perceived as alertness.\n",
      "\n",
      "Source: https://www.ncdps.gov/dps-services/public-safety/personal-safety\n",
      "\n",
      "User Question: How can I make myself less of a target when walking alone?\n",
      "Bot Response: It's a good idea to be aware of your surroundings and trust your instincts when walking alone. If you feel uncomfortable or unsafe, try to stay in well-lit areas and avoid walking through deserted streets or alleys. You can also consider carrying a personal alarm or pepper spray for added security. Additionally, keeping your valuables close to your body and out of sight can help prevent pickpocketing.\n",
      "\n",
      "Source: https://medbox.com/self-defense-for-seniors/\n",
      "\n",
      "User Question: What’s the protocol if a stranger tries to enter the workplace?\n",
      "Bot Response: If a stranger tries to enter the workplace, you should inform your supervisor or security personnel immediately. Do not let the stranger enter without proper authorization. You can also ask the stranger for identification to verify their identity. If you feel unsafe or uncomfortable at any point during this process, please remain calm and seek assistance from a trusted colleague or security personnel. Remember, safety is everyone's top priority.\n",
      "\n",
      "Source: https://www.instructables.com/Basic-Street-Safety-for-Women/\n",
      "\n",
      "User Question: How do I teach home safety to children?\n",
      "Bot Response: Teaching home safety to children is an important aspect of their overall well-being. Here are some tips on how to do it effectively:\n",
      "\n",
      "1. Create a safe environment: Make sure your home is free from hazards such as sharp objects, poisonous substances, and loose wiring.\n",
      "2. Establish a routine: Develop a daily routine that includes safety checks, such as checking the locks on doors and windows before bedtime.\n",
      "3. Practice fire drills: Conduct regular fire drills to ensure your children know what to do in case of a fire emergency.\n",
      "4. Discuss emergency situations: Talk to your children about different types of emergencies, such as earthquakes, floods, and power outages, and discuss how they can prepare for them.\n",
      "5. Keep important numbers handy: Make sure your children know how to reach emergency services, such as 911, in case of an emergency.\n",
      "6. Encourage independence: Gradually give your children more independence as they grow older, but always make sure they understand the importance of safety and responsibility.\n",
      "7. Be a good role model: Children learn by observing their parents, so it's important to model safe behaviors yourself.\n",
      "8. Use visual aids: Create posters or flyers that highlight safety tips in a fun and engaging way to help your children remember them better.\n",
      "9. Make it fun: Incorporate games and activities into your safety lessons to keep them interactive and enjoyable for your children.\n",
      "10. Stay involved: Keep an eye on your children's safety practices and provide feedback and encouragement along the way.\n",
      "\n",
      "Source: https://crimeawarenesskids.com/safety-in-public-places-for-kids/\n",
      "\n",
      "User Question: What are basic self-defense moves I should know?\n",
      "Bot Response: Here are some basic self-defense moves that you may find useful to know:\n",
      "\n",
      "1. Forearm block: This is a common move used to protect yourself from an attacker's strike or grab. It involves raising your forearm to deflect the attack and create distance between you and the attacker.\n",
      "2. Knee push: By pushing your knee into the attacker's stomach, you can create space and give yourself time to react.\n",
      "3. Elbow strike: A quick elbow strike to the attacker's head or neck can be effective in disrupting their balance and giving you time to escape.\n",
      "4. Hip throw: By using your hips to throw the attacker, you can create distance and gain control of the situation.\n",
      "5. Knee sweep: This move involves quickly swiping your knee at the attacker's feet, causing them to stumble and lose balance.\n",
      "\n",
      "Remember, it's important to practice these moves regularly to build muscle memory and improve your chances of success in a self-defense situation. It's also important to always prioritize safety and avoid engaging in any physical altercations if possible.\n",
      "\n",
      "Source: https://www.littleexplainers.com/self-defense-techniques/\n",
      "\n",
      "Exiting chat... Goodbye!\n"
     ]
    }
   ],
   "source": [
    "while True:\n",
    "    try:\n",
    "        user_input = input(\"\\nInput your question (type 'exit' to stop): \")\n",
    "        if user_input.lower() == 'exit':\n",
    "            print(\"\\nExiting chat... Goodbye!\")\n",
    "            break\n",
    "\n",
    "        result = qa_chain.invoke({\"query\": user_input})\n",
    "        response = result[\"result\"]\n",
    "\n",
    "        print(f\"\\nUser Question: {user_input}\")\n",
    "        print(f\"Bot Response: {response}\\n\")\n",
    "\n",
    "        # Show source document URLs\n",
    "        if \"source_documents\" in result:\n",
    "            for doc in result[\"source_documents\"]:\n",
    "                url = doc.metadata.get(\"url\") or doc.metadata.get(\"source\", \"Unknown\")\n",
    "                print(f\"Source: {url}\")\n",
    "\n",
    "\n",
    "    except KeyboardInterrupt:\n",
    "        print(\"\\nExiting chat...\")\n",
    "        break\n"
   ]
  }
 ],
 "metadata": {
  "kernelspec": {
   "display_name": "venv",
   "language": "python",
   "name": "python3"
  },
  "language_info": {
   "codemirror_mode": {
    "name": "ipython",
    "version": 3
   },
   "file_extension": ".py",
   "mimetype": "text/x-python",
   "name": "python",
   "nbconvert_exporter": "python",
   "pygments_lexer": "ipython3",
   "version": "3.13.5"
  }
 },
 "nbformat": 4,
 "nbformat_minor": 5
}
